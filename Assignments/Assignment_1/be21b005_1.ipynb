{
 "cells": [
  {
   "cell_type": "markdown",
   "metadata": {
    "id": "KrWPtLFAZ9cI"
   },
   "source": [
    "# **BT-3051: Data Structure and Algorithms in Biology | Assignment 1**\n",
    "\n",
    "**IMPORTANT:**\n",
    "\n",
    "You are allowed to discuss the problems verbally with your friends, but copying or looking at codes (either from your friend or the Web) is not permitted. Transgressions are easy to find, and will be reported to the “Sub-committee for the Discipline and Welfare of Students” and will be dealt with very strictly.\n",
    "\n",
    "**Instructions:**\n",
    "\n",
    "1.   *Please download the notebook and modify the code blocks and the\n",
    "text blocks ONLY*\n",
    "2.   Reupload the .ipynb file to the google form shared.\n",
    "3.   **Deadline: 5 PM IST, 25.08.2023**\n",
    "4.   **Early Submission Bonus:** *Before 24 hrs.:* **10%**, *Before 48 hrs.:* **20%**\n",
    "5.  ** Late Submission Penalty:** *After 24 hrs.:* **20%**, *After 48 hrs.:* **40%**\n",
    "\n",
    "\n",
    "\n",
    "**Rules to write the code:**\n",
    "\n",
    "1.   *Write Python code for the following questions using only basic Python data structures, loops, and conditional statements. You are not allowed to use any inbuilt function for searching, sorting, or replacing*\n",
    "2.   **Allowed:** *list, set, tuple, dictionary, variables(int, float), control statements(if-else, switch-case), loops(for, while)*\n",
    "3. *Use the same function name and parameters given in each question*\n",
    "4. *Write explanations as comments in the python file*"
   ]
  },
  {
   "cell_type": "markdown",
   "metadata": {
    "id": "ZgDnOEBfYt2Y"
   },
   "source": [
    "### **Question 1**\n",
    "\n",
    "Write a Python function that multiplies two numbers (a>b) but you are allowed to use only the addition and subtraction operator.\n",
    "\n",
    "```\n",
    "def mult(a,b):\n",
    "  # Write your code here...\n",
    "  return product\n",
    "\n",
    "# Testcase\n",
    "print(mult(5,3))\n",
    "------------------------\n",
    ">15\n",
    "```\n",
    "\n",
    "1.   State the input size of your function.\n",
    "2.   Calculate the time complexity of your function and explain it.\n",
    "\n",
    "*(Explain it in a text block given below the question)*"
   ]
  },
  {
   "cell_type": "code",
   "execution_count": 1,
   "metadata": {
    "id": "PNVbgbFMYlhv"
   },
   "outputs": [
    {
     "name": "stdout",
     "output_type": "stream",
     "text": [
      "Multiplying different combinations of integers\n",
      " 5\t*\t 3\t=\t  15\n",
      " 5\t*\t-3\t=\t -15\n",
      "-5\t*\t-3\t=\t  15\n"
     ]
    }
   ],
   "source": [
    "# Function that finds the multiplication of two numbers\n",
    "def mult(a,b):\n",
    "    product = 0\n",
    "    # Since the integers a,b can be negative/positive, we need to consider the following three cases to find the product\n",
    "    if(b>=0):                 # If \"b\" is positive, given \"a>b\", \"a\" is also positive.\n",
    "        while(b>0):\n",
    "            product += a      # \"a\" is added \"b\" number of times to get the total product in this case.\n",
    "            b -= 1\n",
    "        return product\n",
    "    else:       # If \"b\" is negative, \"a\" could be positive or negative.\n",
    "        while(-b>0):          # When b is negative, we iterate |b| times.\n",
    "            product -= a      # \"a\" is subtracted \"|b|\" number of times to get the total product.\n",
    "            b += 1\n",
    "        return product\n",
    "\n",
    "# Testcase\n",
    "print(\"Multiplying different combinations of integers\")\n",
    "print(\" 5\\t*\\t 3\\t=\\t \",mult(5,3))\n",
    "print(\" 5\\t*\\t-3\\t=\\t\",mult(5,-3))\n",
    "print(\"-5\\t*\\t-3\\t=\\t \",mult(-3,-5))"
   ]
  },
  {
   "cell_type": "markdown",
   "metadata": {
    "id": "Y_HP_Vs4eP5f"
   },
   "source": [
    "In this question, the task is to *multiply two numbers*, using only the addition and subtraction operators.\n",
    "So, there are two ways to do this, considering two numbers(a,b)\n",
    "\n",
    "i. Add `a`, `b` number of times\n",
    "\n",
    "ii. Add `b`, `a` number of times\n",
    "\n",
    "Given the condition in the question(a>b), (i) gives the result in lesser time. \n",
    "\n",
    "*(However, this argument is valid only in case both a,b are positive. It may change in case either or both values are negative).*\n",
    "1. In this question, we are taking only two input values `a` and `b`. Hence, the input size of function is **`2`**.\n",
    "\n",
    "2. The time complexity of the function is ***`O(|b|)`***, considering the condition in the question that (a>b). \n",
    "\n",
    "    The time complexity is found based on how many iterations the loop undergoes. If `b` is postive, then we are performing **b** iterations. If `b` is negative, then we are performing **|b|** iterations. So, we can say that the time complexity is effectively `O(|b|)`"
   ]
  },
  {
   "cell_type": "markdown",
   "metadata": {
    "id": "4TuIXceqaCS_"
   },
   "source": [
    "### **Question 2**\n",
    "\n",
    "Many identification numbers have a certain structure to them. For example, the IIT Madras roll numbers are of the form:\n",
    "\n",
    "“Alphabet-Alphabet-Num-Num-Alphabet-Num-Num-Num”.\n",
    "\n",
    "Now write a python program that takes in a string as input and reports if the string is in concurrence with the structure.\n",
    "\n",
    "Do this for:\n",
    "1.   The IITM ID (Structure above)\n",
    "2.   The PAN ID (Structure: AAAAANNNNM, where A is alphabet and N is a number)\n",
    "\n",
    "```\n",
    "def iitmid(id):\n",
    "  # Write your code here...\n",
    "  return True/False (as a bool, and not string)\n",
    "\n",
    "def panid(pan):\n",
    "  # Write your code here...\n",
    "  return True/False (as a bool, and not string)\n",
    "\n",
    "# Testcase\n",
    "print(iitmid('BT20D700'))\n",
    "print(panid('BT20D700'))\n",
    "-------------------------------\n",
    ">True\n",
    ">False\n",
    "```\n",
    "\n",
    "**Note:**\n",
    "\n",
    "Not allowed *regex*"
   ]
  },
  {
   "cell_type": "code",
   "execution_count": 2,
   "metadata": {
    "id": "o8q2UbcvawGX"
   },
   "outputs": [
    {
     "name": "stdout",
     "output_type": "stream",
     "text": [
      "IITM ID Validations\n",
      "True\n",
      "False\n",
      "\n",
      "PAN ID Validations\n",
      "False\n",
      "True\n"
     ]
    }
   ],
   "source": [
    "# Checking whether the character is a string or not.\n",
    "def alphabet(ch):\n",
    "    # The condition checks if \"ch\" is an alphabet, by comparing its ASCII values to those of lowercase and uppercase letters.\n",
    "    if(('a' <= ch <= 'z') or ('A' <= ch <= 'Z')):   \n",
    "        return True\n",
    "    return False\n",
    "\n",
    "# Checking whether the character is a number or not.\n",
    "def number(num):\n",
    "    # The condition checks if \"num\" is a numeric digit, by comparing its ASCII values to digit character from \"0\" to \"9\" \n",
    "    if(\"0\" <= num <= \"9\"):\n",
    "        return True\n",
    "    return False\n",
    "\n",
    "# Checking if the given string aligns with the IITM ID.\n",
    "def iitmid(id):\n",
    "    # The base condition is that the length of the string should be 8 characters\n",
    "    if(len(id)!=8):\n",
    "        return False\n",
    "    else:\n",
    "        for i in range(len(id)):\n",
    "            if(i==0 or i==1 or i==4): # These three indices are position of alphabets for a valid IITM ID\n",
    "                check_char = alphabet(id[i])\n",
    "                if(check_char == False):\n",
    "                    return False\n",
    "            else:\n",
    "                check_num = number(id[i])\n",
    "                if(check_num == False):\n",
    "                    return False\n",
    "    return True\n",
    "\n",
    "# Checking if the given string aligns with the PAN ID.\n",
    "def panid(pan):\n",
    "    # The base condition is that the length of the string should be 10 characters\n",
    "    if(len(pan)!=10):\n",
    "        return False\n",
    "    else:\n",
    "        for i in range(len(pan)):\n",
    "            if(i==0 or i==1 or i==2 or i==3 or i==4 or i==9): # These six indices are position of alphabets for a valid PAN ID\n",
    "                check_char = alphabet(pan[i])\n",
    "                if(check_char == False):\n",
    "                    return False\n",
    "            else:\n",
    "                check_num = number(pan[i])\n",
    "                if(check_num == False):\n",
    "                    return False\n",
    "    return True\n",
    "\n",
    "# Testcase\n",
    "print(\"IITM ID Validations\")\n",
    "print(iitmid('BT20D700'))\n",
    "print(iitmid('ABCDE1234F'))\n",
    "print()\n",
    "print(\"PAN ID Validations\")\n",
    "print(panid('BT20D700'))\n",
    "print(panid('ABCDE1234F'))"
   ]
  },
  {
   "cell_type": "markdown",
   "metadata": {},
   "source": [
    "My aprroach to solve this question is:\n",
    "\n",
    "Firstly, I make an assumption that `M` given in the PAN ID expression is an `alphabet` in accordance with the general trend of PAN IDs.\n",
    "\n",
    "I have made two functions,**alphabet()** and **number()** to check whether the characters they receive, are *alphabet* or *number* respectively.\n",
    "\n",
    "Now, on receiving the string (on which i have to check for ID validity), I can break down my verification into two steps:\n",
    "\n",
    "1. Firstly, if it is IITM ID, length of string must be `8` and if it is PAN ID, length of string must be `10`\n",
    "\n",
    "2. I check whether each character in the string matches the ideally expected pattern by calling the desired function depending on the `index` of validation string."
   ]
  },
  {
   "cell_type": "markdown",
   "metadata": {
    "id": "DXZnReYRawk3"
   },
   "source": [
    "### **Question 3**\n",
    "\n",
    "Write a Python function that takes in a number (n<1000) and returns True if it is prime else False.\n",
    "\n",
    "```\n",
    "def isprime(num):\n",
    "  # Write your code here...\n",
    "  return True/False (as a bool, and not string)\n",
    "\n",
    "#Testcase\n",
    "print(isprime(7))\n",
    "---------------------\n",
    ">True\n",
    "```\n",
    "\n",
    "1.   State the input size of your function.\n",
    "2.   Calculate the time complexity of your function and explain it.\n",
    "\n",
    "*(Explain it in a text block given below the question)*"
   ]
  },
  {
   "cell_type": "code",
   "execution_count": 6,
   "metadata": {
    "id": "xOcmq0VXa-OX"
   },
   "outputs": [
    {
     "name": "stdout",
     "output_type": "stream",
     "text": [
      "False\n"
     ]
    }
   ],
   "source": [
    "# Function that checks if a number is prime or not\n",
    "def isprime(n):\n",
    "    var = True                            # This variable will check if there is any factor for \"num\" other than \"1\" and \"num\"\n",
    "    for i in range(2, int(n**0.5)+1):   # Iterating from 2 until num^(1/2)+1\n",
    "        if(n%i==0):\n",
    "            var = False                   # The moment we encounter a factor, we convert the \"var\" to False\n",
    "            break                         # The moment we find even one factor, we can say, \"num\" is non-prime. Hence break.\n",
    "    return var\n",
    "\n",
    "# Testcase\n",
    "print(isprime(10000))"
   ]
  },
  {
   "cell_type": "markdown",
   "metadata": {
    "id": "f0QyO_ufb06U"
   },
   "source": [
    "In this question, the task is to find whether the given number is a prime number or not. \n",
    "\n",
    "**Prime numbers are those numbers which have exactly two divisors, 1 and the number itself.**\n",
    "\n",
    "So, the concept of prime number is for positive integers alone. Even among the positive numbers, we only consider numbers greater than 1, because 1 has only 1 divisor, which is the number itself.\n",
    "\n",
    "1. In this question, we are taking only one input value `n`. It is given that the input value is a number less than 1000. So we can say that the range of input values is [2,999] Hence, the input size of the function is **`1`**\n",
    "    \n",
    "\n",
    "2. The time complexity of the function is ***`O(n^(1/2))`***.\n",
    "\n",
    "    The naive way to look at this problem statement would be to iterate from 2 until n-1, and see if any other number apart from 1 and the number itself divides the given `n`. The time complexity would then be `O(n)`.\n",
    "    \n",
    "    However, we can simplify this by iterating only until the root of `n`. Let us consider a,b such that a*b=n. So, if we have `a` as a factor of num greater than root(n), then the the other factor, `b` will necessarily have to be less than root(n) to ensure that the product of `a` and `b` is n. And if we are able to find any one of the factors also, it should be sufficient to prove that the given n is not prime. Hence the better time complexity is `O(n^(1/2))` where we iterate from 2 until root(n)+1."
   ]
  },
  {
   "cell_type": "markdown",
   "metadata": {
    "id": "E1HdCjpIa-rX"
   },
   "source": [
    "### **Question 4**\n",
    "\n",
    "Write a Python function that takes two inputs L and R (0<L<=R<=1000) and returns the number of integers between L and R (inclusive) that satisfy this property:\n",
    "\n",
    "*The difference between the number and its reverse is a perfect square.*\n",
    "\n",
    "Ex: 3, 15, 40 and 56 are four such numbers satisfying the property.\n",
    "\n",
    "```\n",
    "def countsq(L, R):\n",
    "  # Write your code here\n",
    "  return intcount\n",
    "\n",
    "# Testcase\n",
    "print(countsq(1,12))\n",
    "--------------------------\n",
    ">12\n",
    "```"
   ]
  },
  {
   "cell_type": "code",
   "execution_count": 46,
   "metadata": {
    "id": "BVqDBsIlbwPE"
   },
   "outputs": [
    {
     "name": "stdout",
     "output_type": "stream",
     "text": [
      "12\n"
     ]
    }
   ],
   "source": [
    "# Function that inverts a given number.\n",
    "def invert(n):\n",
    "    num = 0\n",
    "    while(n>0):              # Iterating till we remove each digit from n and append it to num in reverse order.\n",
    "        dig = n%10           # Extracting the digits one by one from the units place.\n",
    "        n = n//10            # After extracting, remove that digit from n, by integer division by 10.\n",
    "        num = num*10 + dig   # And add the digit in front of whatever is stored in num.\n",
    "    return num\n",
    "\n",
    "# Function that counts the number of integers between L and R (inclusive) that satisfy the given property.\n",
    "def countsq(L, R):\n",
    "    intcount=0\n",
    "    for i in range(L, R+1):\n",
    "        inv = invert(i)                       # Inverting the number \"i\" by calling the above defined \"invert\" function.\n",
    "        diff = abs(inv-i)                     # Finding the difference between the number and its inverse.\n",
    "        if((int((diff)**(1/2)))**2 == diff):  \n",
    "            intcount += 1\n",
    "    return intcount\n",
    "        \n",
    "print(countsq(1,12))"
   ]
  },
  {
   "cell_type": "markdown",
   "metadata": {},
   "source": [
    "I would like to highlight the idea that I have used in order to deduce whether a given number is a **perfect square** or not.\n",
    "\n",
    "1. ***If the number is a perfect square***, then if we raise it to the power of `(1/2)`, then we will get a number which will have 0 decimal value. Now, if we take the integral part of this number, it will still remain the same number, because owing to the fact that the number was a perfect square, its root will be an integer itself. Now, if we square this integral part, we are bound to get back the same number, which we initially had.\n",
    "\n",
    "2. ***If the number is not a perfect square***, then if we raise it to the power of `(1/2)`, then we will get a number whose decimal value will not be 0. Now, if we take the integral part of this number, it will lose its decimal values, leading to a reduction in the numeric value *(because 5.24>5)*. Now, if we square this integral part, we will get a number, which will be lesser than the initial number.\n",
    "\n",
    "The above two cases clearly explain why the condition, `(int((diff)**(1/2)))**2 == diff` is bound to give the right results."
   ]
  },
  {
   "cell_type": "markdown",
   "metadata": {
    "id": "ejQk1aQPbwe8"
   },
   "source": [
    "### **Question 5**\n",
    "\n",
    "ACP Pradyuman, a brilliant detective (pun-intended), is known for solving code puzzles. A programmer named Kamesh, seeks help with a decryption challenge inspired by the \"CID\" TV series. ACP Pradyuman creates a code question based on Kamesh's request.\n",
    "\n",
    "Write a Python function `decrypt_message(message)` that reverses the characters within each word of a given string while preserving word order\n",
    "\n",
    "**Note:**\n",
    "\n",
    "Not allowed any inbuilt-function like *string.split* or *string.reverse*\n",
    "\n",
    "```\n",
    "def decrypt_message(message):\n",
    "  # Write your code here...\n",
    "  return decoded_message\n",
    "\n",
    "# Testcase\n",
    "message = 'Hello world'\n",
    "decoded_message = decrypt_message(message)\n",
    "print(decoded_message)\n",
    "------------------------\n",
    "> 'olleH dlrow'\n",
    "```\n",
    "\n",
    "**Application:**\n",
    "\n",
    "Reversing characters within words finds application in cryptography by adding complexity to encoding methods. This technique can be used to create unique transformations within encoded messages, enhancing the security of ciphers and making decryption more challenging without the proper key."
   ]
  },
  {
   "cell_type": "code",
   "execution_count": 29,
   "metadata": {
    "id": "WvzXZNqCby7c"
   },
   "outputs": [
    {
     "name": "stdout",
     "output_type": "stream",
     "text": [
      "olleH dlrow\n"
     ]
    }
   ],
   "source": [
    "# Function to find the reverse of the word passed as argument\n",
    "def invert(word):\n",
    "    rev_word = \"\" # rev_word is initialized to \"\"\n",
    "    for i in range(len(word)-1, -1, -1): # Iterate from the last element of the word to the first\n",
    "        rev_word += word[i] # Add the characters in the reverse order to the rev_word\n",
    "    return rev_word\n",
    "\n",
    "# Function to reverse each word in the message, while preserving the order of the words\n",
    "def decrypt_message(message):\n",
    "    decoded_message = \"\" # Initializing the decoded_message to \"\"\n",
    "    word = \"\" # This will store each word and add its reverse word to the decoded_message\n",
    "    for j in range(len(message)):\n",
    "        if(message[j]!=\" \"): # Until space is encountered, the character belongs to the word\n",
    "            word += message[j]\n",
    "        else: # When space is encountered, the word is completed, and its reverse must be added to the decoded_message\n",
    "            inv_word = invert(word) # Invert the word obtained\n",
    "            decoded_message += inv_word\n",
    "            decoded_message += \" \" # After adding the word, add a space, because a space should be there between the words\n",
    "            word = \"\" # Re-initialize the word to \"\" for getting the next word\n",
    "    # When the above loop is executed, the last word still remains, because there is no space at the end, which needs to be added to the decoded_message\n",
    "    inv_word = invert(word)\n",
    "    decoded_message += inv_word\n",
    "    return decoded_message\n",
    "\n",
    "# Testcase\n",
    "message = 'Hello world'\n",
    "decoded_message = decrypt_message(message)\n",
    "print(decoded_message)"
   ]
  }
 ],
 "metadata": {
  "colab": {
   "provenance": []
  },
  "kernelspec": {
   "display_name": "Python 3 (ipykernel)",
   "language": "python",
   "name": "python3"
  },
  "language_info": {
   "codemirror_mode": {
    "name": "ipython",
    "version": 3
   },
   "file_extension": ".py",
   "mimetype": "text/x-python",
   "name": "python",
   "nbconvert_exporter": "python",
   "pygments_lexer": "ipython3",
   "version": "3.11.4"
  }
 },
 "nbformat": 4,
 "nbformat_minor": 1
}
